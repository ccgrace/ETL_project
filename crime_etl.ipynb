{
 "cells": [
  {
   "cell_type": "code",
   "execution_count": 2,
   "metadata": {},
   "outputs": [],
   "source": [
    "import pandas as pd\n",
    "from sqlalchemy import create_engine"
   ]
  },
  {
   "cell_type": "code",
   "execution_count": 3,
   "metadata": {},
   "outputs": [
    {
     "data": {
      "text/html": [
       "<div>\n",
       "<style scoped>\n",
       "    .dataframe tbody tr th:only-of-type {\n",
       "        vertical-align: middle;\n",
       "    }\n",
       "\n",
       "    .dataframe tbody tr th {\n",
       "        vertical-align: top;\n",
       "    }\n",
       "\n",
       "    .dataframe thead th {\n",
       "        text-align: right;\n",
       "    }\n",
       "</style>\n",
       "<table border=\"1\" class=\"dataframe\">\n",
       "  <thead>\n",
       "    <tr style=\"text-align: right;\">\n",
       "      <th></th>\n",
       "      <th>Fiscal Year</th>\n",
       "      <th>Awardee</th>\n",
       "      <th>Project Name</th>\n",
       "      <th>Award</th>\n",
       "      <th>City</th>\n",
       "      <th>County</th>\n",
       "    </tr>\n",
       "  </thead>\n",
       "  <tbody>\n",
       "    <tr>\n",
       "      <th>0</th>\n",
       "      <td>2019</td>\n",
       "      <td>County Commissioners of Carroll County</td>\n",
       "      <td>CHANGE Roof Replacement</td>\n",
       "      <td>90000.0</td>\n",
       "      <td>Westminster</td>\n",
       "      <td>Carroll</td>\n",
       "    </tr>\n",
       "    <tr>\n",
       "      <th>1</th>\n",
       "      <td>2019</td>\n",
       "      <td>County Commissioners of Garrett County</td>\n",
       "      <td>Parkwood Village</td>\n",
       "      <td>750000.0</td>\n",
       "      <td>Oakland</td>\n",
       "      <td>Garrett</td>\n",
       "    </tr>\n",
       "    <tr>\n",
       "      <th>2</th>\n",
       "      <td>2019</td>\n",
       "      <td>Town of Betterton</td>\n",
       "      <td>Wheeler Avenue</td>\n",
       "      <td>800000.0</td>\n",
       "      <td>Betterton</td>\n",
       "      <td>Kent</td>\n",
       "    </tr>\n",
       "    <tr>\n",
       "      <th>3</th>\n",
       "      <td>2019</td>\n",
       "      <td>County Commissioners of Allegany County</td>\n",
       "      <td>Locust Grove Sewage</td>\n",
       "      <td>800000.0</td>\n",
       "      <td>Cumberland</td>\n",
       "      <td>Allegany</td>\n",
       "    </tr>\n",
       "    <tr>\n",
       "      <th>4</th>\n",
       "      <td>2019</td>\n",
       "      <td>Wicomico County, Maryland</td>\n",
       "      <td>Downpayment Assistance</td>\n",
       "      <td>300000.0</td>\n",
       "      <td>Salisbury</td>\n",
       "      <td>Wicomico</td>\n",
       "    </tr>\n",
       "  </tbody>\n",
       "</table>\n",
       "</div>"
      ],
      "text/plain": [
       "   Fiscal Year                                  Awardee  \\\n",
       "0         2019   County Commissioners of Carroll County   \n",
       "1         2019   County Commissioners of Garrett County   \n",
       "2         2019                        Town of Betterton   \n",
       "3         2019  County Commissioners of Allegany County   \n",
       "4         2019                Wicomico County, Maryland   \n",
       "\n",
       "              Project Name     Award         City    County  \n",
       "0  CHANGE Roof Replacement   90000.0  Westminster   Carroll  \n",
       "1         Parkwood Village  750000.0      Oakland   Garrett  \n",
       "2           Wheeler Avenue  800000.0    Betterton      Kent  \n",
       "3      Locust Grove Sewage  800000.0   Cumberland  Allegany  \n",
       "4   Downpayment Assistance  300000.0    Salisbury  Wicomico  "
      ]
     },
     "execution_count": 3,
     "metadata": {},
     "output_type": "execute_result"
    }
   ],
   "source": [
    "csv_file = \"Resources/grant_data.csv\"\n",
    "crime_data_df = pd.read_csv(csv_file)\n",
    "crime_data_df.head()"
   ]
  },
  {
   "cell_type": "code",
   "execution_count": null,
   "metadata": {},
   "outputs": [],
   "source": []
  }
 ],
 "metadata": {
  "kernelspec": {
   "display_name": "Python 3",
   "language": "python",
   "name": "python3"
  },
  "language_info": {
   "codemirror_mode": {
    "name": "ipython",
    "version": 3
   },
   "file_extension": ".py",
   "mimetype": "text/x-python",
   "name": "python",
   "nbconvert_exporter": "python",
   "pygments_lexer": "ipython3",
   "version": "3.7.9"
  }
 },
 "nbformat": 4,
 "nbformat_minor": 4
}
